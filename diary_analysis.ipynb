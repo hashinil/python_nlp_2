{
 "cells": [
  {
   "cell_type": "markdown",
   "id": "d7c337cd-f0b5-4e2b-be38-85c080de20d6",
   "metadata": {},
   "source": [
    "# load file"
   ]
  },
  {
   "cell_type": "code",
   "execution_count": 1,
   "id": "5da3ac3e-7626-4718-90b4-6d30fcd70e9b",
   "metadata": {
    "tags": []
   },
   "outputs": [],
   "source": [
    "with open(\"data/2023-10-21.txt\", \"r\", encoding=\"utf8\") as file:\n",
    "    book = file.read()"
   ]
  },
  {
   "cell_type": "code",
   "execution_count": 2,
   "id": "b6e0e590-7d05-4818-bb28-71d0edfda04c",
   "metadata": {
    "tags": []
   },
   "outputs": [
    {
     "data": {
      "text/plain": [
       "'Our board exam results have not yet been declared and already the news of malpractice is making the rounds. There are cases of attempted bribery reported for admissions into esteemed colleges. Such news is really very disheartening. Especially when coupled with the various reservation schemes already existing. This leaves no scope for children like me who do not fit in any minority groups nor can sum up large amounts for donation. This is a very serious problem, and I am really threatened by it. Even if the malpractices are ignored or hushed up, as very often they will be, the fact that these students will not excel in their courses is inevitable, thus causing a loss of the country’s resources employed in their training. I do not know what to look forward to anymore. I just hope and pray that such practices are tracked and nipped in the bud.\\n'"
      ]
     },
     "execution_count": 2,
     "metadata": {},
     "output_type": "execute_result"
    }
   ],
   "source": [
    "book"
   ]
  },
  {
   "cell_type": "markdown",
   "id": "6d6cce9b-12d3-4e00-9d86-5fdff4adfc73",
   "metadata": {},
   "source": [
    "# Sentiment Analysis"
   ]
  },
  {
   "cell_type": "code",
   "execution_count": 3,
   "id": "ebdd0029-ac02-4ee1-a031-e6307d99ba96",
   "metadata": {
    "tags": []
   },
   "outputs": [],
   "source": [
    "import nltk"
   ]
  },
  {
   "cell_type": "code",
   "execution_count": 4,
   "id": "a92e7e1b-6dcb-4924-99d5-cc0e73222a67",
   "metadata": {
    "tags": []
   },
   "outputs": [],
   "source": [
    "from nltk.sentiment import SentimentIntensityAnalyzer"
   ]
  },
  {
   "cell_type": "code",
   "execution_count": 5,
   "id": "828f8dcd-bd6b-4c05-985d-9cf8a432cd27",
   "metadata": {
    "tags": []
   },
   "outputs": [],
   "source": [
    "analyzer = SentimentIntensityAnalyzer()"
   ]
  },
  {
   "cell_type": "code",
   "execution_count": 6,
   "id": "322a172c-3ef5-4e7f-93ad-8ea1fea51fd3",
   "metadata": {
    "tags": []
   },
   "outputs": [],
   "source": [
    "score = analyzer.polarity_scores(book)"
   ]
  },
  {
   "cell_type": "code",
   "execution_count": 7,
   "id": "ca661392-8d3b-4833-a736-8c04a75fa9f2",
   "metadata": {
    "tags": []
   },
   "outputs": [
    {
     "name": "stdout",
     "output_type": "stream",
     "text": [
      "{'neg': 0.138, 'neu': 0.798, 'pos': 0.065, 'compound': -0.8757}\n"
     ]
    }
   ],
   "source": [
    "print(score)"
   ]
  },
  {
   "cell_type": "code",
   "execution_count": null,
   "id": "98bdaa8d-fd56-4beb-8a34-772406adb9ba",
   "metadata": {},
   "outputs": [],
   "source": []
  }
 ],
 "metadata": {
  "kernelspec": {
   "display_name": "Python 3 (ipykernel)",
   "language": "python",
   "name": "python3"
  },
  "language_info": {
   "codemirror_mode": {
    "name": "ipython",
    "version": 3
   },
   "file_extension": ".py",
   "mimetype": "text/x-python",
   "name": "python",
   "nbconvert_exporter": "python",
   "pygments_lexer": "ipython3",
   "version": "3.11.3"
  }
 },
 "nbformat": 4,
 "nbformat_minor": 5
}
